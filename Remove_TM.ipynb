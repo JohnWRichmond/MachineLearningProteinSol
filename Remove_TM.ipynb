{
 "cells": [
  {
   "cell_type": "code",
   "execution_count": 1,
   "id": "0f382e49-91b0-437c-a5e2-97dc6275f5fe",
   "metadata": {
    "tags": []
   },
   "outputs": [],
   "source": [
    "import os\n",
    "\n",
    "import pandas as pd\n",
    "import numpy as np"
   ]
  },
  {
   "cell_type": "code",
   "execution_count": 2,
   "id": "17356685-d9d3-4a87-aa93-808acbc7388b",
   "metadata": {
    "tags": []
   },
   "outputs": [],
   "source": [
    "csv = pd.read_csv('C:/Users/johnr/Documents/Year2/GNN/MachineLearningProteinSol/Raw_data/Solubility/NiwaAs.csv', index_col = 0)"
   ]
  },
  {
   "cell_type": "code",
   "execution_count": 3,
   "id": "1b67da4a-4281-4aef-adc1-6a4d6e2af725",
   "metadata": {
    "tags": []
   },
   "outputs": [],
   "source": [
    "with open('C:/Users/johnr/Documents/Year2/GNN/MachineLearningProteinSol/Raw_data/Transmembrane_Proteins/ecoli/predicted_topologies.3line', 'r') as f:\n",
    "    lines = f.readlines()\n",
    "\n",
    "data = []\n",
    "for i in range(0, len(lines), 3):\n",
    "    record = [line.strip() for line in lines[i:i+3]]\n",
    "    \n",
    "    my_list = []\n",
    "    \n",
    "    for x in record:\n",
    "        \n",
    "        if len(x.split(' | ')) == 1:\n",
    "            my_list.append(x.split(' | ')[0])\n",
    "    \n",
    "        if len(x.split(' | ')) > 1:\n",
    "            my_list.append(x.split(' | ')[0][1:])\n",
    "            \n",
    "            my_list.append(x.split(' | ')[1])\n",
    "            \n",
    "    data.append(my_list)\n",
    "\n",
    "df = pd.DataFrame(data, columns=['column1', 'column2', 'column3', 'column4'])"
   ]
  },
  {
   "cell_type": "code",
   "execution_count": 4,
   "id": "3c95d3e9-1439-4cf7-968e-b04b33cfb1ee",
   "metadata": {
    "tags": []
   },
   "outputs": [],
   "source": [
    "df = df[df['column2'] == 'GLOB'].set_index('column1')"
   ]
  },
  {
   "cell_type": "code",
   "execution_count": 8,
   "id": "a7e633ad-9e46-42bf-b93e-685fce01eedc",
   "metadata": {
    "tags": []
   },
   "outputs": [],
   "source": [
    "#csv.loc[df.index.intersection(csv.index)].to_csv('C:/Users/johnr/Documents/Year2/GNN/MachineLearningProteinSol/Processed_data/Solubility/NiwaAS.csv')"
   ]
  },
  {
   "cell_type": "code",
   "execution_count": 9,
   "id": "c526adce-23cc-4e2a-87d4-6226427e934a",
   "metadata": {
    "tags": []
   },
   "outputs": [],
   "source": [
    "a = csv.loc[df.index.intersection(csv.index)].drop([' BL21-DE3_up', 'totperc'], axis = 1)"
   ]
  },
  {
   "cell_type": "code",
   "execution_count": 10,
   "id": "c2c0103f-40b8-47ac-a216-16e9a24c4afa",
   "metadata": {
    "tags": []
   },
   "outputs": [],
   "source": [
    "niwa = a.drop([' AS-500', ' AS-1000', ' AS-2000'], axis = 1)\n",
    "AS500 = a.drop([' niwa-solub', ' AS-1000', ' AS-2000'], axis = 1)\n",
    "AS1000 = a.drop([' AS-500', ' niwa-solub', ' AS-2000'], axis = 1)\n",
    "AS2000 = a.drop([' AS-500', ' AS-1000', ' niwa-solub'], axis = 1)"
   ]
  },
  {
   "cell_type": "code",
   "execution_count": 11,
   "id": "47cd8d07-3c52-44c4-9006-3b349ec4e4e9",
   "metadata": {
    "tags": []
   },
   "outputs": [],
   "source": [
    "niwa.columns = ['log_solubility' if x==' niwa-solub' else x for x in niwa.columns]\n",
    "niwa = niwa[niwa['log_solubility'] != 0]\n",
    "log_solubility = np.log(niwa.loc[:, 'log_solubility'])\n",
    "niwa = niwa.drop(columns = 'log_solubility')\n",
    "niwa['log_solubility'] = log_solubility"
   ]
  },
  {
   "cell_type": "code",
   "execution_count": 12,
   "id": "b36d7549-ee6b-4d7e-9617-e202c38a2bee",
   "metadata": {
    "tags": []
   },
   "outputs": [],
   "source": [
    "AS500.columns = ['log_solubility' if x==' AS-500' else x for x in AS500.columns]\n",
    "AS500 = AS500[AS500['log_solubility'] != 0]\n",
    "log_solubility = np.log(AS500.loc[:, 'log_solubility'])\n",
    "AS500 = AS500.drop(columns = 'log_solubility')\n",
    "AS500['log_solubility'] = log_solubility"
   ]
  },
  {
   "cell_type": "code",
   "execution_count": 13,
   "id": "fa450766-6cc9-4894-b70b-cf038c85d0e9",
   "metadata": {
    "tags": []
   },
   "outputs": [],
   "source": [
    "AS1000.columns = ['log_solubility' if x==' AS-1000' else x for x in AS1000.columns]\n",
    "AS1000 = AS1000[AS1000['log_solubility'] != 0]\n",
    "log_solubility = np.log(AS1000.loc[:, 'log_solubility'])\n",
    "AS1000 = AS1000.drop(columns = 'log_solubility')\n",
    "AS1000['log_solubility'] = log_solubility"
   ]
  },
  {
   "cell_type": "code",
   "execution_count": 14,
   "id": "837e9131-4041-48cb-82a7-43ea410bdd31",
   "metadata": {
    "tags": []
   },
   "outputs": [],
   "source": [
    "AS2000.columns = ['log_solubility' if x==' AS-2000' else x for x in AS2000.columns]\n",
    "AS2000 = AS2000[AS2000['log_solubility'] != 0]\n",
    "log_solubility = np.log(AS2000.loc[:, 'log_solubility'])\n",
    "AS2000 = AS2000.drop(columns = 'log_solubility')\n",
    "AS2000['log_solubility'] = log_solubility"
   ]
  },
  {
   "cell_type": "code",
   "execution_count": 19,
   "id": "0ce190d8-c511-48f1-948c-8ff144589dbb",
   "metadata": {
    "tags": []
   },
   "outputs": [],
   "source": [
    "#niwa.to_csv('C:/Users/johnr/Documents/Year2/GNN/MachineLearningProteinSol/Processed_data/Solubility/niwa.csv')\n",
    "#AS500.to_csv('C:/Users/johnr/Documents/Year2/GNN/MachineLearningProteinSol/Processed_data/Solubility/AS500.csv')\n",
    "#AS1000.to_csv('C:/Users/johnr/Documents/Year2/GNN/MachineLearningProteinSol/Processed_data/Solubility/AS1000.csv')\n",
    "#AS2000.to_csv('C:/Users/johnr/Documents/Year2/GNN/MachineLearningProteinSol/Processed_data/Solubility/AS2000.csv')"
   ]
  }
 ],
 "metadata": {
  "kernelspec": {
   "display_name": "Python 3 (ipykernel)",
   "language": "python",
   "name": "python3"
  },
  "language_info": {
   "codemirror_mode": {
    "name": "ipython",
    "version": 3
   },
   "file_extension": ".py",
   "mimetype": "text/x-python",
   "name": "python",
   "nbconvert_exporter": "python",
   "pygments_lexer": "ipython3",
   "version": "3.8.16"
  }
 },
 "nbformat": 4,
 "nbformat_minor": 5
}
